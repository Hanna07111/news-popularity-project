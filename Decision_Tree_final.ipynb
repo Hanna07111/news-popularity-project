{
  "nbformat": 4,
  "nbformat_minor": 0,
  "metadata": {
    "colab": {
      "provenance": [],
      "mount_file_id": "1I4NBEU46EruMmutISKGo5nMALdSBg2Vl",
      "authorship_tag": "ABX9TyMEul8nXa4ZLzdQFKR3zS64",
      "include_colab_link": true
    },
    "kernelspec": {
      "name": "python3",
      "display_name": "Python 3"
    },
    "language_info": {
      "name": "python"
    }
  },
  "cells": [
    {
      "cell_type": "markdown",
      "metadata": {
        "id": "view-in-github",
        "colab_type": "text"
      },
      "source": [
        "<a href=\"https://colab.research.google.com/github/Hanna07111/news-popularity-project/blob/main/Decision_Tree_final.ipynb\" target=\"_parent\"><img src=\"https://colab.research.google.com/assets/colab-badge.svg\" alt=\"Open In Colab\"/></a>"
      ]
    },
    {
      "cell_type": "code",
      "source": [
        "import pandas as pd\n",
        "from sklearn.model_selection import train_test_split\n",
        "from sklearn.tree import DecisionTreeClassifier\n",
        "from sklearn.metrics import accuracy_score, classification_report\n",
        "from sklearn.metrics import accuracy_score, f1_score, roc_auc_score"
      ],
      "metadata": {
        "id": "jfNP0dt5tn0t"
      },
      "execution_count": null,
      "outputs": []
    },
    {
      "cell_type": "code",
      "execution_count": null,
      "metadata": {
        "colab": {
          "base_uri": "https://localhost:8080/"
        },
        "id": "NkViF1MpthDp",
        "outputId": "8437e6b5-e78a-4d14-c45d-1d2d08ec8bb1"
      },
      "outputs": [
        {
          "output_type": "stream",
          "name": "stdout",
          "text": [
            "Final Tuned Model Accuracy: 0.6213963963963964\n",
            "Final Tuned Model F1 Score: 0.6189072772613919\n",
            "Final Tuned Model AUC: 0.6557001679572746\n",
            "Mean Evaluation Metric (Accuracy + F1 + AUC) / 3: 0.6320012805383542\n"
          ]
        }
      ],
      "source": [
        "#데이터 불러오기\n",
        "df = pd.read_csv(\"/content/drive/MyDrive/25-1 패턴인식 프로젝트/train_processed.csv\")\n",
        "\n",
        "#feature, target 분리\n",
        "X = df.drop(['shares','y'], axis=1)\n",
        "y = df['y']\n",
        "\n",
        "#train-validation split\n",
        "X_train, X_val, y_train, y_val = train_test_split(X, y, test_size=0.2, random_state=42, stratify=y)\n",
        "\n",
        "#model fitting\n",
        "dt = DecisionTreeClassifier(\n",
        "    max_depth=5,\n",
        "    min_samples_split=5,\n",
        "    min_samples_leaf=2,\n",
        "    random_state=42\n",
        ")\n",
        "dt.fit(X_train, y_train)\n",
        "\n",
        "# 검증 데이터에 대해 예측 수행\n",
        "y_pred_valid = dt.predict(X_val)\n",
        "y_prob_valid = dt.predict_proba(X_val)[:, 1]  # 클래스 1일 확률\n",
        "\n",
        "# 성능 평가 (Accuracy, F1 Score, AUC)\n",
        "accuracy = accuracy_score(y_val, y_pred_valid)\n",
        "f1 = f1_score(y_val, y_pred_valid)\n",
        "auc = roc_auc_score(y_val, y_prob_valid)\n",
        "\n",
        "# 세 가지 지표의 평균 계산\n",
        "mean_metric = (accuracy + f1 + auc) / 3\n",
        "\n",
        "# 성능 결과 출력\n",
        "print(\"Final Tuned Model Accuracy:\", accuracy)\n",
        "print(\"Final Tuned Model F1 Score:\", f1)\n",
        "print(\"Final Tuned Model AUC:\", auc)\n",
        "print(\"Mean Evaluation Metric (Accuracy + F1 + AUC) / 3:\", mean_metric)"
      ]
    }
  ]
}